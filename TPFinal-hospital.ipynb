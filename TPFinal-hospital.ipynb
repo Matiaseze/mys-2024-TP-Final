{
 "cells": [
  {
   "cell_type": "markdown",
   "metadata": {},
   "source": [
    "# Modelos y Simulación 2024\n",
    "\n",
    "## Trabajo Práctico Final:\n",
    "## Hospital\n",
    "\n",
    "### Alumnos:\n",
    "- Ana Enzo\n",
    "- Barea Matias\n",
    "- Alen Morillo\n",
    "- Yrigoyen Carlos\n",
    "\n",
    "### Profesores: Lic. Claudia López de Munain - Lic. Bruno Alfredo Pazos"
   ]
  },
  {
   "cell_type": "code",
   "execution_count": null,
   "metadata": {},
   "outputs": [],
   "source": [
    "from hospital import *"
   ]
  }
 ],
 "metadata": {
  "kernelspec": {
   "display_name": "Python 3",
   "language": "python",
   "name": "python3"
  },
  "language_info": {
   "codemirror_mode": {
    "name": "ipython",
    "version": 3
   },
   "file_extension": ".py",
   "mimetype": "text/x-python",
   "name": "python",
   "nbconvert_exporter": "python",
   "pygments_lexer": "ipython3",
   "version": "3.10.4"
  }
 },
 "nbformat": 4,
 "nbformat_minor": 2
}
